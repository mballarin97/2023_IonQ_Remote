{
 "cells": [
  {
   "cell_type": "code",
   "execution_count": 106,
   "metadata": {},
   "outputs": [],
   "source": [
    "import numpy as np\n",
    "import matplotlib.pyplot as plt\n",
    "from numpy.lib.stride_tricks import as_strided\n",
    "\n",
    "from sklearn import preprocessing\n",
    "\n",
    "from qiskit import QuantumCircuit, execute\n",
    "from qiskit_machine_learning.circuit.library import RawFeatureVector\n",
    "from qiskit import transpile\n",
    "from qiskit_aer import AerSimulator\n",
    "\n",
    "from scipy.fft import fft2"
   ]
  },
  {
   "cell_type": "code",
   "execution_count": 68,
   "metadata": {},
   "outputs": [],
   "source": [
    "data = np.load(\"data/images.npy\")\n",
    "labels = np.load(\"data/labels.npy\")\n",
    "\n",
    "max_num_qubits = 16"
   ]
  },
  {
   "cell_type": "code",
   "execution_count": 69,
   "metadata": {},
   "outputs": [],
   "source": [
    "lin_data = [dd.reshape(-1) for dd in data]\n",
    "norm_lin_data = preprocessing.normalize(lin_data)\n",
    "norm_data = np.array( [nd.reshape(28, 28) for nd in norm_lin_data] )"
   ]
  },
  {
   "cell_type": "code",
   "execution_count": 70,
   "metadata": {},
   "outputs": [],
   "source": [
    "def pool2d(A, kernel_size, stride, padding=0, pool_mode='max'):\n",
    "    '''\n",
    "    2D Pooling\n",
    "\n",
    "    Parameters:\n",
    "        A: input 2D array\n",
    "        kernel_size: int, the size of the window over which we take pool\n",
    "        stride: int, the stride of the window\n",
    "        padding: int, implicit zero paddings on both sides of the input\n",
    "        pool_mode: string, 'max' or 'avg'\n",
    "    '''\n",
    "    # Padding\n",
    "    A = np.pad(A, padding, mode='constant')\n",
    "\n",
    "    # Window view of A\n",
    "    output_shape = ((A.shape[0] - kernel_size) // stride + 1,\n",
    "                    (A.shape[1] - kernel_size) // stride + 1)\n",
    "\n",
    "    shape_w = (output_shape[0], output_shape[1], kernel_size, kernel_size)\n",
    "    strides_w = (stride*A.strides[0], stride*A.strides[1], A.strides[0], A.strides[1])\n",
    "\n",
    "    A_w = as_strided(A, shape_w, strides_w)\n",
    "\n",
    "    # Return the result of pooling\n",
    "    if pool_mode == 'max':\n",
    "        return A_w.max(axis=(2, 3))\n",
    "    elif pool_mode == 'avg':\n",
    "        return A_w.mean(axis=(2, 3))\n",
    "\n",
    "\n",
    "def pool2d(A, kernel_size, stride, padding=0, pool_mode='max'):\n",
    "    '''\n",
    "    2D Pooling\n",
    "\n",
    "    Parameters:\n",
    "        A: input 2D array\n",
    "        kernel_size: int, the size of the window over which we take pool\n",
    "        stride: int, the stride of the window\n",
    "        padding: int, implicit zero paddings on both sides of the input\n",
    "        pool_mode: string, 'max' or 'avg'\n",
    "    '''\n",
    "    # Padding\n",
    "    A = np.pad(A, padding, mode='constant')\n",
    "\n",
    "    # Window view of A\n",
    "    output_shape = ((A.shape[0] - kernel_size) // stride + 1,\n",
    "                    (A.shape[1] - kernel_size) // stride + 1)\n",
    "\n",
    "    shape_w = (output_shape[0], output_shape[1], kernel_size, kernel_size)\n",
    "    strides_w = (stride*A.strides[0], stride*A.strides[1], A.strides[0], A.strides[1])\n",
    "\n",
    "    A_w = as_strided(A, shape_w, strides_w)\n",
    "\n",
    "    # Return the result of pooling\n",
    "    if pool_mode == 'max':\n",
    "        return A_w.max(axis=(2, 3))\n",
    "    elif pool_mode == 'avg':\n",
    "        return A_w.mean(axis=(2, 3))\n",
    "\n"
   ]
  },
  {
   "cell_type": "code",
   "execution_count": 177,
   "metadata": {},
   "outputs": [],
   "source": [
    "img = data[0]*255"
   ]
  },
  {
   "cell_type": "code",
   "execution_count": 190,
   "metadata": {},
   "outputs": [
    {
     "name": "stdout",
     "output_type": "stream",
     "text": [
      "0\n",
      "0\n",
      "0\n",
      "0\n",
      "0\n",
      "0\n",
      "0\n",
      "0\n",
      "0\n",
      "0\n",
      "0\n",
      "0\n",
      "0\n",
      "0\n",
      "0\n",
      "0\n",
      "95\n",
      "179\n",
      "176\n",
      "163\n",
      "1\n",
      "0\n",
      "0\n",
      "0\n",
      "0\n",
      "0\n",
      "0\n",
      "0\n",
      "35\n",
      "172\n",
      "173\n",
      "180\n",
      "175\n",
      "212\n",
      "4\n",
      "1\n",
      "1\n",
      "2\n",
      "2\n",
      "2\n",
      "2\n",
      "3\n",
      "185\n",
      "171\n",
      "161\n",
      "180\n",
      "212\n",
      "186\n",
      "139\n",
      "90\n",
      "84\n",
      "99\n",
      "99\n",
      "99\n",
      "109\n",
      "126\n",
      "200\n",
      "151\n",
      "150\n",
      "175\n",
      "202\n",
      "210\n",
      "160\n",
      "158\n",
      "164\n",
      "169\n",
      "170\n",
      "169\n",
      "169\n",
      "177\n",
      "200\n",
      "155\n",
      "174\n",
      "129\n",
      "142\n",
      "190\n",
      "183\n",
      "168\n",
      "165\n",
      "162\n",
      "162\n",
      "165\n",
      "166\n",
      "178\n",
      "237\n",
      "149\n",
      "172\n",
      "179\n",
      "181\n",
      "208\n",
      "118\n",
      "186\n",
      "165\n",
      "164\n",
      "164\n",
      "165\n",
      "172\n",
      "185\n",
      "255\n",
      "152\n",
      "175\n",
      "213\n",
      "145\n",
      "212\n",
      "144\n",
      "186\n",
      "164\n",
      "168\n",
      "168\n",
      "171\n",
      "172\n",
      "175\n",
      "212\n",
      "152\n",
      "170\n",
      "133\n",
      "210\n",
      "169\n",
      "180\n",
      "162\n",
      "162\n",
      "162\n",
      "162\n",
      "164\n",
      "165\n",
      "176\n",
      "201\n",
      "155\n",
      "150\n",
      "174\n",
      "181\n",
      "183\n",
      "163\n",
      "165\n",
      "165\n",
      "163\n",
      "164\n",
      "163\n",
      "166\n",
      "173\n",
      "191\n",
      "171\n",
      "156\n",
      "177\n",
      "229\n",
      "208\n",
      "136\n",
      "132\n",
      "161\n",
      "161\n",
      "174\n",
      "176\n",
      "173\n",
      "186\n",
      "10\n",
      "169\n",
      "179\n",
      "185\n",
      "198\n",
      "215\n",
      "2\n",
      "1\n",
      "1\n",
      "2\n",
      "2\n",
      "2\n",
      "3\n",
      "2\n",
      "0\n",
      "0\n",
      "106\n",
      "179\n",
      "179\n",
      "174\n",
      "2\n",
      "1\n",
      "0\n",
      "0\n",
      "0\n",
      "0\n",
      "0\n",
      "0\n",
      "0\n",
      "0\n",
      "0\n",
      "0\n",
      "0\n",
      "0\n",
      "0\n",
      "0\n",
      "0\n",
      "0\n",
      "0\n",
      "0\n",
      "0\n",
      "0\n"
     ]
    }
   ],
   "source": [
    "for ii in (pool2d(img, 2, 2)*255).T:\n",
    "    for jj in ii:\n",
    "        print(int(jj))\n"
   ]
  },
  {
   "cell_type": "code",
   "execution_count": 98,
   "metadata": {},
   "outputs": [
    {
     "data": {
      "image/png": "[encoded data removed]",
      "text/plain": [
       "<Figure size 432x288 with 2 Axes>"
      ]
     },
     "metadata": {
      "needs_background": "light"
     },
     "output_type": "display_data"
    }
   ],
   "source": [
    "idx = -1\n",
    "\n",
    "fig, ax = plt.subplots(1, 2)\n",
    "\n",
    "\n",
    "ax[0].imshow( data[idx] )\n",
    "\n",
    "ax[1].imshow( pool2d(data[idx], 2, 2)  )\n",
    "\n",
    "plt.show()"
   ]
  },
  {
   "cell_type": "code",
   "execution_count": 56,
   "metadata": {},
   "outputs": [
    {
     "data": {
      "text/plain": [
       "<matplotlib.image.AxesImage at 0x7f05d2bf44c0>"
      ]
     },
     "execution_count": 56,
     "metadata": {},
     "output_type": "execute_result"
    },
    {
     "data": {
      "image/png": "[encoded data removed]",
      "text/plain": [
       "<Figure size 432x288 with 1 Axes>"
      ]
     },
     "metadata": {
      "needs_background": "light"
     },
     "output_type": "display_data"
    }
   ],
   "source": [
    "plt.imshow(np.abs(fft2(norm_data[idx]) ) )"
   ]
  },
  {
   "cell_type": "code",
   "execution_count": 105,
   "metadata": {},
   "outputs": [
    {
     "data": {
      "text/plain": [
       "<matplotlib.colorbar.Colorbar at 0x7f05d0c0d2b0>"
      ]
     },
     "execution_count": 105,
     "metadata": {},
     "output_type": "execute_result"
    },
    {
     "data": {
      "image/png": "[encoded data removed]",
      "text/plain": [
       "<Figure size 432x288 with 2 Axes>"
      ]
     },
     "metadata": {
      "needs_background": "light"
     },
     "output_type": "display_data"
    }
   ],
   "source": [
    "plt.imshow(data[4])\n",
    "plt.colorbar()"
   ]
  },
  {
   "cell_type": "code",
   "execution_count": 60,
   "metadata": {},
   "outputs": [
    {
     "data": {
      "text/plain": [
       "65536"
      ]
     },
     "execution_count": 60,
     "metadata": {},
     "output_type": "execute_result"
    }
   ],
   "source": [
    "2**16"
   ]
  },
  {
   "cell_type": "code",
   "execution_count": 170,
   "metadata": {},
   "outputs": [],
   "source": [
    "num_qub = 6\n",
    "qc = RawFeatureVector(2**num_qub)\n",
    "new_img = pool2d(norm_data[0], 2, 2)[7:, 7:].reshape(-1)\n",
    "\n",
    "qc = qc.assign_parameters(  np.pad(new_img, (0, 2**num_qub-len(new_img) )) )\n",
    "qc = transpile(qc, basis_gates=[\"cx\", \"rx\", \"ry\", \"ry\"])"
   ]
  },
  {
   "cell_type": "code",
   "execution_count": 184,
   "metadata": {},
   "outputs": [
    {
     "data": {
      "text/plain": [
       "0.79922555636713"
      ]
     },
     "execution_count": 184,
     "metadata": {},
     "output_type": "execute_result"
    }
   ],
   "source": [
    "0.999**(224 )"
   ]
  },
  {
   "cell_type": "code",
   "execution_count": null,
   "metadata": {},
   "outputs": [],
   "source": []
  },
  {
   "cell_type": "code",
   "execution_count": 145,
   "metadata": {},
   "outputs": [
    {
     "name": "stdout",
     "output_type": "stream",
     "text": [
      "False\n"
     ]
    },
    {
     "data": {
      "text/plain": [
       "<qiskit.circuit.instructionset.InstructionSet at 0x7f05fdade760>"
      ]
     },
     "execution_count": 145,
     "metadata": {},
     "output_type": "execute_result"
    }
   ],
   "source": [
    "idx = -6\n",
    "print(labels[idx])\n",
    "image = data[idx]\n",
    "qc = QuantumCircuit(14)\n",
    "\n",
    "for ii in range(14):\n",
    "    qc.ry( image[ii, ii], ii)\n",
    "\n",
    "for ii in range(14):\n",
    "    for jj in range(ii+1, 14):\n",
    "        qc.cry( image[ii, ii], ii, jj)\n",
    "\n",
    "for ii in range(14):\n",
    "    qc.h(ii)\n",
    "\n",
    "qc.save_state()"
   ]
  },
  {
   "cell_type": "code",
   "execution_count": 146,
   "metadata": {},
   "outputs": [],
   "source": [
    "res = execute(qc, AerSimulator(method=\"statevector\"))\n",
    "sv = res.result().data()[\"statevector\"]"
   ]
  },
  {
   "cell_type": "code",
   "execution_count": 147,
   "metadata": {},
   "outputs": [
    {
     "data": {
      "text/plain": [
       "[<matplotlib.lines.Line2D at 0x7f05d0a67340>]"
      ]
     },
     "execution_count": 147,
     "metadata": {},
     "output_type": "execute_result"
    },
    {
     "data": {
      "image/png": "[encoded data removed]",
      "text/plain": [
       "<Figure size 432x288 with 1 Axes>"
      ]
     },
     "metadata": {
      "needs_background": "light"
     },
     "output_type": "display_data"
    }
   ],
   "source": [
    "plt.plot( np.abs( sv)[np.abs( sv)>1e-6] )"
   ]
  },
  {
   "cell_type": "code",
   "execution_count": 132,
   "metadata": {},
   "outputs": [
    {
     "data": {
      "text/plain": [
       "[<matplotlib.lines.Line2D at 0x7f05fdd7be80>]"
      ]
     },
     "execution_count": 132,
     "metadata": {},
     "output_type": "execute_result"
    },
    {
     "data": {
      "image/png": "[encoded data removed]",
      "text/plain": [
       "<Figure size 432x288 with 1 Axes>"
      ]
     },
     "metadata": {
      "needs_background": "light"
     },
     "output_type": "display_data"
    }
   ],
   "source": [
    "plt.plot( np.abs( sv)[np.abs( sv)>1e-6] )\n",
    "\n",
    "#plt.xscale(\"log\")"
   ]
  },
  {
   "cell_type": "code",
   "execution_count": 153,
   "metadata": {},
   "outputs": [
    {
     "data": {
      "text/plain": [
       "7.614709844115208"
      ]
     },
     "execution_count": 153,
     "metadata": {},
     "output_type": "execute_result"
    }
   ],
   "source": [
    "np.log2(14*14)"
   ]
  },
  {
   "cell_type": "code",
   "execution_count": 156,
   "metadata": {},
   "outputs": [
    {
     "data": {
      "text/plain": [
       "128"
      ]
     },
     "execution_count": 156,
     "metadata": {},
     "output_type": "execute_result"
    }
   ],
   "source": [
    "import numpy as np\n",
    "from qiskit import QuantumRegister, ClassicalRegister\n",
    "\n",
    "# Initialize the quantum circuit for the image\n",
    "# Pixel position\n",
    "idx = QuantumRegister(2, 'idx')\n",
    "# grayscale pixel intensity value\n",
    "intensity = QuantumRegister(8,'intensity')\n",
    "# classical register\n",
    "cr = ClassicalRegister(10, 'cr')\n",
    "\n",
    "# create the quantum circuit for the image\n",
    "qc_image = QuantumCircuit(intensity, idx, cr)\n",
    "\n",
    "# set the total number of qubits\n",
    "num_qubits = qc_image.num_qubits\n",
    "\n",
    "qc_image.draw()"
   ]
  },
  {
   "cell_type": "code",
   "execution_count": null,
   "metadata": {},
   "outputs": [],
   "source": [
    "np.loadtxt(\"qpixlpp/examples/output.pgm\", skiprows=)"
   ]
  }
 ],
 "metadata": {
  "kernelspec": {
   "display_name": "py_tn",
   "language": "python",
   "name": "python3"
  },
  "language_info": {
   "codemirror_mode": {
    "name": "ipython",
    "version": 3
   },
   "file_extension": ".py",
   "mimetype": "text/x-python",
   "name": "python",
   "nbconvert_exporter": "python",
   "pygments_lexer": "ipython3",
   "version": "3.9.7"
  },
  "orig_nbformat": 4,
  "vscode": {
   "interpreter": {
    "hash": "6fb2c8932d43ab86797769b8368110d403b5488b63931e28569fc50ee4e072c4"
   }
  }
 },
 "nbformat": 4,
 "nbformat_minor": 2
}

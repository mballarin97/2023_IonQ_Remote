{
 "cells": [
  {
   "cell_type": "code",
   "execution_count": 1,
   "metadata": {},
   "outputs": [],
   "source": [
    "import numpy as np\n",
    "import matplotlib.pyplot as plt\n",
    "from numpy.lib.stride_tricks import as_strided\n",
    "\n",
    "from sklearn import preprocessing\n",
    "\n",
    "from qiskit import QuantumCircuit, execute\n",
    "from qiskit_machine_learning.circuit.library import RawFeatureVector\n",
    "from qiskit import transpile\n",
    "from qiskit_aer import AerSimulator"
   ]
  },
  {
   "cell_type": "code",
   "execution_count": 13,
   "metadata": {},
   "outputs": [],
   "source": [
    "import matplotlib.pyplot as plt # plotting library\n",
    "import numpy as np # this module is useful to work with numerical arrays\n",
    "import pandas as pd # this module is useful to work with tabular data\n",
    "import random # this module will be used to select random samples from a collection\n",
    "import os # this module will be used just to create directories in the local filesystem\n",
    "from tqdm import tqdm # this module is useful to plot progress bars\n",
    "\n",
    "# Pytorch\n",
    "import torch\n",
    "import torchvision\n",
    "from torchvision import transforms\n",
    "from torch.utils.data import DataLoader, Dataset\n",
    "from torch import nn\n",
    "\n",
    "# Pytorch lightning wrapper\n",
    "import pytorch_lightning as pl\n",
    "from pytorch_lightning import Callback\n",
    "from pytorch_lightning.callbacks.early_stopping import EarlyStopping"
   ]
  },
  {
   "cell_type": "code",
   "execution_count": 10,
   "metadata": {},
   "outputs": [],
   "source": [
    "def pool2d(A, kernel_size, stride, padding=0, pool_mode='max'):\n",
    "    '''\n",
    "    2D Pooling\n",
    "\n",
    "    Parameters:\n",
    "        A: input 2D array\n",
    "        kernel_size: int, the size of the window over which we take pool\n",
    "        stride: int, the stride of the window\n",
    "        padding: int, implicit zero paddings on both sides of the input\n",
    "        pool_mode: string, 'max' or 'avg'\n",
    "    '''\n",
    "    # Padding\n",
    "    A = np.pad(A, padding, mode='constant')\n",
    "\n",
    "    # Window view of A\n",
    "    output_shape = ((A.shape[0] - kernel_size) // stride + 1,\n",
    "                    (A.shape[1] - kernel_size) // stride + 1)\n",
    "\n",
    "    shape_w = (output_shape[0], output_shape[1], kernel_size, kernel_size)\n",
    "    strides_w = (stride*A.strides[0], stride*A.strides[1], A.strides[0], A.strides[1])\n",
    "\n",
    "    A_w = as_strided(A, shape_w, strides_w)\n",
    "\n",
    "    # Return the result of pooling\n",
    "    if pool_mode == 'max':\n",
    "        return A_w.max(axis=(2, 3))\n",
    "    elif pool_mode == 'avg':\n",
    "        return A_w.mean(axis=(2, 3))\n",
    "\n",
    "\n",
    "def encoder(image):\n",
    "    image = pool2d(image, 2, 2)\n",
    "    qc = QuantumCircuit(14)\n",
    "\n",
    "    for ii in range(14):\n",
    "        qc.ry( image[ii, ii], ii)\n",
    "\n",
    "    for ii in range(14):\n",
    "        for jj in range(ii+1, 14):\n",
    "            qc.cry( image[ii, ii], ii, jj)\n",
    "\n",
    "    for ii in range(14):\n",
    "        qc.h(ii)\n",
    "\n",
    "    qc.measure_all()\n",
    "\n",
    "    return qc\n",
    "\n",
    "def run_qc(qc, num_shots):\n",
    "    res = execute(qc, AerSimulator(method=\"statevector\"), num_shots=num_shots)\n",
    "    cnt = res.result().get_counts()\n",
    "    sv = np.zeros(2**qc.num_qubits)\n",
    "    for key, val in cnt.items():\n",
    "        sv[int(key, base=2)] = val/num_shots\n",
    "\n",
    "    return sv"
   ]
  },
  {
   "cell_type": "code",
   "execution_count": 2,
   "metadata": {},
   "outputs": [],
   "source": [
    "data = np.load(\"data/images.npy\")\n",
    "labels = np.load(\"data/labels.npy\")\n",
    "\n",
    "max_num_qubits = 16\n",
    "lin_data = [dd.reshape(-1) for dd in data]\n",
    "norm_lin_data = preprocessing.normalize(lin_data)\n",
    "norm_data = np.array( [nd.reshape(28, 28) for nd in norm_lin_data] )"
   ]
  },
  {
   "cell_type": "code",
   "execution_count": 12,
   "metadata": {},
   "outputs": [
    {
     "name": "stderr",
     "output_type": "stream",
     "text": [
      "100%|██████████| 2000/2000 [10:38<00:00,  3.13it/s]\n"
     ]
    }
   ],
   "source": [
    "encoded_images = np.array([\n",
    "    run_qc(\n",
    "        encoder(img),\n",
    "        10000\n",
    "    )\n",
    "    for img in tqdm(norm_data)\n",
    " ])"
   ]
  },
  {
   "cell_type": "code",
   "execution_count": 37,
   "metadata": {},
   "outputs": [],
   "source": [
    "encoded_images = encoded_images.astype(np.float32)\n",
    "norm_data = norm_data.astype(np.float32)"
   ]
  },
  {
   "cell_type": "code",
   "execution_count": 38,
   "metadata": {},
   "outputs": [],
   "source": [
    "class Qkdataset(Dataset):\n",
    "    def __init__(self, data, label, transform=None, target_transform=None):\n",
    "        self.img_labels = label\n",
    "        self.imgs = data\n",
    "        self.transform = transform\n",
    "        self.target_transform = target_transform\n",
    "\n",
    "    def __len__(self):\n",
    "        return len(self.img_labels)\n",
    "\n",
    "    def __getitem__(self, idx):\n",
    "        image = self.imgs[idx].astype(float)\n",
    "        label = self.img_labels[idx].astype(float)\n",
    "        if self.transform:\n",
    "            image = self.transform(image)\n",
    "        if self.target_transform:\n",
    "            label = self.target_transform(label)\n",
    "        return image, label"
   ]
  },
  {
   "cell_type": "code",
   "execution_count": 77,
   "metadata": {},
   "outputs": [],
   "source": [
    "class AutoEncoder(pl.LightningModule):\n",
    "\n",
    "    def __init__(self, num_qubits):\n",
    "        super().__init__()\n",
    "        # Decoder\n",
    "        self.decoder =  nn.Sequential(\n",
    "                                        # Second linear layer\n",
    "                                        nn.Linear(2**num_qubits, 3*3*32), # (64, 288)\n",
    "                                        nn.ReLU(True),\n",
    "                                        # Unflatten\n",
    "                                        nn.Unflatten(dim=1, unflattened_size=(32, 3, 3)),\n",
    "                                        # First transposed convolution\n",
    "                                        nn.ConvTranspose2d(32, 16, kernel_size=3, output_padding=0, stride=2),\n",
    "                                        nn.ReLU(True),\n",
    "                                        # Second transposed convolution\n",
    "                                        nn.ConvTranspose2d(16, 8, kernel_size=3, output_padding=1, padding=1, stride=2),\n",
    "                                        nn.ReLU(True),\n",
    "                                        ## Third transposed convolution\n",
    "                                        nn.ConvTranspose2d(8, 1, kernel_size=3, output_padding=1, padding=1, stride=2),\n",
    "                                        # To obtain an output in [0,1]\n",
    "                                        nn.Sigmoid()\n",
    "                                    )\n",
    "    def forward(self, x):\n",
    "        # in lightning, forward defines the prediction/inference actions\n",
    "        embedding = self.decoder(x)\n",
    "        return embedding\n",
    "\n",
    "    def training_step(self, batch, batch_idx):\n",
    "        # training_step defined the train loop. It is independent of forward\n",
    "        x, y = batch\n",
    "        x_hat = self.decoder(x)\n",
    "        loss = self.loss_fn(x_hat, y)\n",
    "        self.log('train_loss', loss)\n",
    "        return loss\n",
    "\n",
    "    def validation_step(self, batch, batch_idx, loss_name='validation_loss'):\n",
    "        x, y = batch\n",
    "        x_hat = self.decoder(x)\n",
    "        val_loss = self.loss_fn(x_hat, y)\n",
    "        self.log(loss_name, val_loss, prog_bar=True)\n",
    "        return val_loss\n",
    "\n",
    "    def test_step(self, batch, batch_idx):\n",
    "        self.validation_step(batch, batch_idx, loss_name='test_loss')\n",
    "\n",
    "    def configure_optimizers(self):\n",
    "        optimizer = torch.optim.Adam(self.parameters(), lr=0.0008157670205790078, weight_decay=1.4786239067036069e-05)\n",
    "        return optimizer\n",
    "\n",
    "    def configure_loss(self, loss_fn):\n",
    "        self.loss_fn = loss_fn"
   ]
  },
  {
   "cell_type": "code",
   "execution_count": 78,
   "metadata": {},
   "outputs": [],
   "source": [
    "train_dataset = Qkdataset(encoded_images, norm_data)\n",
    "train_transform = transforms.Compose([\n",
    "#    random_transform,\n",
    "    transforms.ToTensor(),\n",
    "])\n",
    "\n",
    "train_set, val_set = torch.utils.data.random_split(train_dataset,\n",
    "                                                         [1900, 100])\n",
    "\n",
    "### Define train dataloader\n",
    "train_dataloader = DataLoader(train_set, batch_size=256, shuffle=True)\n",
    "### Define validation dataloader\n",
    "val_dataloader = DataLoader(val_set, batch_size=256, shuffle=False)"
   ]
  },
  {
   "cell_type": "code",
   "execution_count": 79,
   "metadata": {},
   "outputs": [
    {
     "data": {
      "text/plain": [
       "AutoEncoder(\n",
       "  (decoder): Sequential(\n",
       "    (0): Linear(in_features=16384, out_features=64, bias=True)\n",
       "    (1): ReLU(inplace=True)\n",
       "    (2): Linear(in_features=64, out_features=288, bias=True)\n",
       "    (3): ReLU(inplace=True)\n",
       "    (4): Unflatten(dim=1, unflattened_size=(32, 3, 3))\n",
       "    (5): ConvTranspose2d(32, 16, kernel_size=(3, 3), stride=(2, 2))\n",
       "    (6): ReLU(inplace=True)\n",
       "    (7): ConvTranspose2d(16, 8, kernel_size=(3, 3), stride=(2, 2), padding=(1, 1), output_padding=(1, 1))\n",
       "    (8): ReLU(inplace=True)\n",
       "    (9): ConvTranspose2d(8, 1, kernel_size=(3, 3), stride=(2, 2), padding=(1, 1), output_padding=(1, 1))\n",
       "    (10): Sigmoid()\n",
       "  )\n",
       ")"
      ]
     },
     "execution_count": 79,
     "metadata": {},
     "output_type": "execute_result"
    }
   ],
   "source": [
    "### Set the random seed for reproducible results\n",
    "torch.manual_seed(49)\n",
    "np.random.seed(49)\n",
    "\n",
    "### Initialize the two networks\n",
    "num_qubs = 14\n",
    "auto_enc = AutoEncoder(num_qubits=num_qubs)\n",
    "auto_enc.double()"
   ]
  },
  {
   "cell_type": "code",
   "execution_count": 80,
   "metadata": {},
   "outputs": [
    {
     "name": "stdout",
     "output_type": "stream",
     "text": [
      "Selected device: cpu\n"
     ]
    }
   ],
   "source": [
    "### Define the loss function\n",
    "loss_fn = torch.nn.MSELoss()\n",
    "# Check if the GPU is available\n",
    "device = torch.device(\"cuda\") if torch.cuda.is_available() else torch.device(\"cpu\")\n",
    "print(f'Selected device: {device}')\n",
    "\n",
    "# Move both the encoder and the decoder to the selected device\n",
    "auto_enc.to(device)\n",
    "auto_enc.configure_loss(loss_fn)"
   ]
  },
  {
   "cell_type": "code",
   "execution_count": 81,
   "metadata": {},
   "outputs": [
    {
     "name": "stderr",
     "output_type": "stream",
     "text": [
      "GPU available: False, used: False\n",
      "TPU available: False, using: 0 TPU cores\n",
      "IPU available: False, using: 0 IPUs\n",
      "HPU available: False, using: 0 HPUs\n"
     ]
    }
   ],
   "source": [
    "trainer = pl.Trainer(max_epochs=100, \n",
    "                     callbacks=[EarlyStopping(monitor='validation_loss')])"
   ]
  },
  {
   "cell_type": "code",
   "execution_count": 82,
   "metadata": {},
   "outputs": [
    {
     "name": "stderr",
     "output_type": "stream",
     "text": [
      "\n",
      "  | Name    | Type       | Params\n",
      "---------------------------------------\n",
      "0 | decoder | Sequential | 1.1 M \n",
      "1 | loss_fn | MSELoss    | 0     \n",
      "---------------------------------------\n",
      "1.1 M     Trainable params\n",
      "0         Non-trainable params\n",
      "1.1 M     Total params\n",
      "4.293     Total estimated model params size (MB)\n"
     ]
    },
    {
     "name": "stdout",
     "output_type": "stream",
     "text": [
      "                                                                           "
     ]
    },
    {
     "name": "stderr",
     "output_type": "stream",
     "text": [
      "/home/utente/py_env/py_tn/lib/python3.9/site-packages/pytorch_lightning/trainer/connectors/data_connector.py:224: PossibleUserWarning: The dataloader, val_dataloader 0, does not have many workers which may be a bottleneck. Consider increasing the value of the `num_workers` argument` (try 12 which is the number of cpus on this machine) in the `DataLoader` init to improve performance.\n",
      "  rank_zero_warn(\n",
      "/home/utente/py_env/py_tn/lib/python3.9/site-packages/torch/nn/modules/loss.py:520: UserWarning: Using a target size (torch.Size([100, 28, 28])) that is different to the input size (torch.Size([100, 1, 28, 28])). This will likely lead to incorrect results due to broadcasting. Please ensure they have the same size.\n",
      "  return F.mse_loss(input, target, reduction=self.reduction)\n",
      "/home/utente/py_env/py_tn/lib/python3.9/site-packages/pytorch_lightning/trainer/connectors/data_connector.py:224: PossibleUserWarning: The dataloader, train_dataloader, does not have many workers which may be a bottleneck. Consider increasing the value of the `num_workers` argument` (try 12 which is the number of cpus on this machine) in the `DataLoader` init to improve performance.\n",
      "  rank_zero_warn(\n",
      "/home/utente/py_env/py_tn/lib/python3.9/site-packages/pytorch_lightning/trainer/trainer.py:1600: PossibleUserWarning: The number of training batches (8) is smaller than the logging interval Trainer(log_every_n_steps=50). Set a lower value for log_every_n_steps if you want to see logs for the training epoch.\n",
      "  rank_zero_warn(\n"
     ]
    },
    {
     "name": "stdout",
     "output_type": "stream",
     "text": [
      "Epoch 0:   0%|          | 0/9 [00:00<?, ?it/s] "
     ]
    },
    {
     "name": "stderr",
     "output_type": "stream",
     "text": [
      "/home/utente/py_env/py_tn/lib/python3.9/site-packages/torch/nn/modules/loss.py:520: UserWarning: Using a target size (torch.Size([256, 28, 28])) that is different to the input size (torch.Size([256, 1, 28, 28])). This will likely lead to incorrect results due to broadcasting. Please ensure they have the same size.\n",
      "  return F.mse_loss(input, target, reduction=self.reduction)\n"
     ]
    },
    {
     "name": "stdout",
     "output_type": "stream",
     "text": [
      "Epoch 0:  89%|████████▉ | 8/9 [00:03<00:00,  2.39it/s, loss=0.2, v_num=10]  "
     ]
    },
    {
     "name": "stderr",
     "output_type": "stream",
     "text": [
      "/home/utente/py_env/py_tn/lib/python3.9/site-packages/torch/nn/modules/loss.py:520: UserWarning: Using a target size (torch.Size([108, 28, 28])) that is different to the input size (torch.Size([108, 1, 28, 28])). This will likely lead to incorrect results due to broadcasting. Please ensure they have the same size.\n",
      "  return F.mse_loss(input, target, reduction=self.reduction)\n"
     ]
    },
    {
     "name": "stdout",
     "output_type": "stream",
     "text": [
      "Epoch 99: 100%|██████████| 9/9 [00:02<00:00,  3.29it/s, loss=0.000941, v_num=10, validation_loss=0.000934]"
     ]
    },
    {
     "name": "stderr",
     "output_type": "stream",
     "text": [
      "`Trainer.fit` stopped: `max_epochs=100` reached.\n"
     ]
    },
    {
     "name": "stdout",
     "output_type": "stream",
     "text": [
      "Epoch 99: 100%|██████████| 9/9 [00:02<00:00,  3.24it/s, loss=0.000941, v_num=10, validation_loss=0.000934]\n"
     ]
    }
   ],
   "source": [
    "trainer.fit(auto_enc, train_dataloader, val_dataloader)"
   ]
  },
  {
   "cell_type": "code",
   "execution_count": 116,
   "metadata": {},
   "outputs": [
    {
     "data": {
      "image/png": "[encoded data removed]",
      "text/plain": [
       "<Figure size 432x288 with 2 Axes>"
      ]
     },
     "metadata": {
      "needs_background": "light"
     },
     "output_type": "display_data"
    }
   ],
   "source": [
    "idx = -5\n",
    "\n",
    "tt = torch.from_numpy(encoded_images[idx]).double().reshape(1, -1)\n",
    "new_tt = auto_enc.forward( tt)\n",
    "\n",
    "\n",
    "fig, ax = plt.subplots(1, 2)\n",
    "\n",
    "ax[0].imshow(new_tt.detach().numpy().reshape(28, 28))\n",
    "ax[1].imshow(norm_data[idx])\n",
    "\n",
    "plt.show()"
   ]
  },
  {
   "cell_type": "code",
   "execution_count": 122,
   "metadata": {},
   "outputs": [
    {
     "data": {
      "image/png": "[encoded data removed]",
      "text/plain": [
       "<Figure size 432x288 with 1 Axes>"
      ]
     },
     "metadata": {
      "needs_background": "light"
     },
     "output_type": "display_data"
    }
   ],
   "source": [
    "plt.plot(encoded_images[10])\n",
    "plt.xscale(\"log\")"
   ]
  },
  {
   "cell_type": "code",
   "execution_count": null,
   "metadata": {},
   "outputs": [],
   "source": []
  }
 ],
 "metadata": {
  "kernelspec": {
   "display_name": "py_tn",
   "language": "python",
   "name": "python3"
  },
  "language_info": {
   "codemirror_mode": {
    "name": "ipython",
    "version": 3
   },
   "file_extension": ".py",
   "mimetype": "text/x-python",
   "name": "python",
   "nbconvert_exporter": "python",
   "pygments_lexer": "ipython3",
   "version": "3.9.7"
  },
  "orig_nbformat": 4,
  "vscode": {
   "interpreter": {
    "hash": "6fb2c8932d43ab86797769b8368110d403b5488b63931e28569fc50ee4e072c4"
   }
  }
 },
 "nbformat": 4,
 "nbformat_minor": 2
}
